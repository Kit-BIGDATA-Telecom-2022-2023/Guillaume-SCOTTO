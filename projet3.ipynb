{
 "cells": [
  {
   "cell_type": "markdown",
   "metadata": {},
   "source": [
    "# Projet maison n° 3"
   ]
  },
  {
   "cell_type": "code",
   "execution_count": 529,
   "metadata": {},
   "outputs": [],
   "source": [
    "# imports\n",
    "import pandas as pd\n",
    "import sys\n",
    "from os import listdir\n",
    "import re\n",
    "import numpy as np"
   ]
  },
  {
   "cell_type": "code",
   "execution_count": 530,
   "metadata": {},
   "outputs": [],
   "source": [
    "colnames=['name', 'gender', 'births', 'year'] \n",
    "df1 = pd.read_csv('names/yob1880.txt', names=colnames, header=None)\n",
    "df2 = pd.read_csv('names/yob1881.txt', names=colnames, header=None)\n",
    "dir_path = '/Users/scotto/Documents/TélécomParis/KitBigData/Kit-Big-Data/session3/names'"
   ]
  },
  {
   "cell_type": "code",
   "execution_count": null,
   "metadata": {
    "scrolled": false
   },
   "outputs": [],
   "source": []
  },
  {
   "cell_type": "code",
   "execution_count": null,
   "metadata": {},
   "outputs": [],
   "source": []
  },
  {
   "cell_type": "markdown",
   "metadata": {},
   "source": [
    "## 1. US baby names\n",
    "\n",
    "On va s'intéresser au dataset **National data** de la SSA : https://www.ssa.gov/oact/babynames/limits.html\n",
    "\n",
    "1. Télécharger le dataset des prénoms US : https://www.ssa.gov/oact/babynames/names.zip\n",
    "\n",
    "Lire la documentation associée.\n",
    "\n",
    "2. Implémenter une fonction Python `df_names_us()` qui produit un unique DataFrame avec tous les fichiers en utilisant **pandas** (par ex. avec la fonction `pandas.concat()`), pas de bash :)\n",
    "\n",
    "Ordre et noms des colonnes du DataFrame : \"year\", \"name\", \"gender\", \"births\"\n",
    "\n",
    "Le DataFrame doit être trié selon l'année croissante puis selon l'ordre défini dans les différents fichiers (voir la documentation du dataset)."
   ]
  },
  {
   "cell_type": "code",
   "execution_count": 574,
   "metadata": {},
   "outputs": [],
   "source": [
    "# names us\n",
    "def df_names_us():\n",
    "    df = pd.DataFrame()\n",
    "    \n",
    "    for file in listdir(dir_path):\n",
    "        date = re.sub(r'([a-z]+)([0-9]+)(.[a-z]+)', r'\\2', file)\n",
    "        df_new = pd.read_csv(dir_path+ ('/') +file, names=colnames, header=None, encoding = 'unicode_escape')\n",
    "        df_new = df_new.assign(year = date)\n",
    "        #print(df_new)\n",
    "        df = pd.concat([df,df_new])\n",
    "\n",
    "    colnames2=['year', 'name', 'gender', 'births'] \n",
    "    df = df[colnames2]\n",
    "    df = df.sort_values('year')\n",
    "    df = df.dropna()\n",
    "    df = df.reset_index()\n",
    "    df = df.drop(['index'], axis=1)\n",
    "    return df"
   ]
  },
  {
   "cell_type": "code",
   "execution_count": 575,
   "metadata": {},
   "outputs": [
    {
     "data": {
      "text/html": [
       "<div>\n",
       "<style scoped>\n",
       "    .dataframe tbody tr th:only-of-type {\n",
       "        vertical-align: middle;\n",
       "    }\n",
       "\n",
       "    .dataframe tbody tr th {\n",
       "        vertical-align: top;\n",
       "    }\n",
       "\n",
       "    .dataframe thead th {\n",
       "        text-align: right;\n",
       "    }\n",
       "</style>\n",
       "<table border=\"1\" class=\"dataframe\">\n",
       "  <thead>\n",
       "    <tr style=\"text-align: right;\">\n",
       "      <th></th>\n",
       "      <th>year</th>\n",
       "      <th>name</th>\n",
       "      <th>gender</th>\n",
       "      <th>births</th>\n",
       "    </tr>\n",
       "  </thead>\n",
       "  <tbody>\n",
       "    <tr>\n",
       "      <th>0</th>\n",
       "      <td>1880</td>\n",
       "      <td>Johnie</td>\n",
       "      <td>M</td>\n",
       "      <td>18.0</td>\n",
       "    </tr>\n",
       "    <tr>\n",
       "      <th>1</th>\n",
       "      <td>1880</td>\n",
       "      <td>Dee</td>\n",
       "      <td>M</td>\n",
       "      <td>20.0</td>\n",
       "    </tr>\n",
       "    <tr>\n",
       "      <th>2</th>\n",
       "      <td>1880</td>\n",
       "      <td>Dallas</td>\n",
       "      <td>M</td>\n",
       "      <td>20.0</td>\n",
       "    </tr>\n",
       "    <tr>\n",
       "      <th>3</th>\n",
       "      <td>1880</td>\n",
       "      <td>Alphonse</td>\n",
       "      <td>M</td>\n",
       "      <td>20.0</td>\n",
       "    </tr>\n",
       "    <tr>\n",
       "      <th>4</th>\n",
       "      <td>1880</td>\n",
       "      <td>Allan</td>\n",
       "      <td>M</td>\n",
       "      <td>20.0</td>\n",
       "    </tr>\n",
       "    <tr>\n",
       "      <th>...</th>\n",
       "      <td>...</td>\n",
       "      <td>...</td>\n",
       "      <td>...</td>\n",
       "      <td>...</td>\n",
       "    </tr>\n",
       "    <tr>\n",
       "      <th>2052776</th>\n",
       "      <td>2021</td>\n",
       "      <td>Dansby</td>\n",
       "      <td>M</td>\n",
       "      <td>32.0</td>\n",
       "    </tr>\n",
       "    <tr>\n",
       "      <th>2052777</th>\n",
       "      <td>2021</td>\n",
       "      <td>Darvin</td>\n",
       "      <td>M</td>\n",
       "      <td>32.0</td>\n",
       "    </tr>\n",
       "    <tr>\n",
       "      <th>2052778</th>\n",
       "      <td>2021</td>\n",
       "      <td>Dayson</td>\n",
       "      <td>M</td>\n",
       "      <td>32.0</td>\n",
       "    </tr>\n",
       "    <tr>\n",
       "      <th>2052779</th>\n",
       "      <td>2021</td>\n",
       "      <td>Dio</td>\n",
       "      <td>M</td>\n",
       "      <td>32.0</td>\n",
       "    </tr>\n",
       "    <tr>\n",
       "      <th>2052780</th>\n",
       "      <td>2021</td>\n",
       "      <td>Riko</td>\n",
       "      <td>M</td>\n",
       "      <td>5.0</td>\n",
       "    </tr>\n",
       "  </tbody>\n",
       "</table>\n",
       "<p>2052781 rows × 4 columns</p>\n",
       "</div>"
      ],
      "text/plain": [
       "         year      name gender  births\n",
       "0        1880    Johnie      M    18.0\n",
       "1        1880       Dee      M    20.0\n",
       "2        1880    Dallas      M    20.0\n",
       "3        1880  Alphonse      M    20.0\n",
       "4        1880     Allan      M    20.0\n",
       "...       ...       ...    ...     ...\n",
       "2052776  2021    Dansby      M    32.0\n",
       "2052777  2021    Darvin      M    32.0\n",
       "2052778  2021    Dayson      M    32.0\n",
       "2052779  2021       Dio      M    32.0\n",
       "2052780  2021      Riko      M     5.0\n",
       "\n",
       "[2052781 rows x 4 columns]"
      ]
     },
     "execution_count": 575,
     "metadata": {},
     "output_type": "execute_result"
    }
   ],
   "source": [
    "df_names_us()"
   ]
  },
  {
   "cell_type": "markdown",
   "metadata": {},
   "source": [
    "## 2. Prénoms français"
   ]
  },
  {
   "cell_type": "code",
   "execution_count": null,
   "metadata": {},
   "outputs": [],
   "source": []
  },
  {
   "cell_type": "markdown",
   "metadata": {},
   "source": [
    "On va s'intéresser au dataset **Fichiers France hors Mayotte** de l'INSEE :  https://www.insee.fr/fr/statistiques/2540004/\n",
    "\n",
    "L'idée est de charger les données et ensuite de les conformer au DataFrame des prénoms US. Ainsi, toute manipulation sur le DataFrame des prénoms US pourra être directement réutilisée avec le DataFrame des prénoms français.\n",
    " \n",
    "1. Télécharger le dataset des prénoms français : https://www.insee.fr/fr/statistiques/fichier/2540004/nat2021_csv.zip\n",
    "\n",
    "\n",
    "Lire la documentation, ça peut être utile...\n",
    " \n",
    "2. Implémenter une fonction `df_names_fr()` qui produit un DataFrame avec les prénoms français en prenant le DataFrame des prénoms US comme modèle :\n",
    " \n",
    " - Même ordre et mêmes noms des colonnes : \"year\", \"name\", \"gender\", \"births\"\n",
    " - Mêmes dtypes pour les colonnes\n",
    " - Mêmes valeurs pour la colonne \"gender\"\n",
    " - Seuls les prénoms de 2 caractères et plus sont conservés\n",
    " - La casse des prénoms doit être identique : initiales en majuscule, autres lettres en minuscule\n",
    " - Les lignes avec des données inutilisables doivent être supprimées\n",
    " - Les données sont triées à l'identique : year (↑), puis gender (↑), puis births (↓) et enfin name (↑)\n",
    " - L'index du DataFrame doit aller de 0 à N-1"
   ]
  },
  {
   "cell_type": "code",
   "execution_count": 576,
   "metadata": {},
   "outputs": [],
   "source": [
    "# names fr\n",
    "def df_names_fr():\n",
    "\n",
    "    path = '/Users/scotto/Documents/TélécomParis/KitBigData/Kit-Big-Data/session3/nat2021.csv'\n",
    "    df = pd.DataFrame()\n",
    "    \n",
    "    # columns modification\n",
    "    colnames=['gender', 'name', 'year', 'births'] \n",
    "    df = pd.read_csv(path , sep = ';', header=None, encoding = 'unicode_escape', names = colnames, keep_default_na = False)\n",
    "    colnames2 = ['year', 'name', 'gender', 'births'] \n",
    "    df = df[colnames2]\n",
    "    \n",
    "    # gender mapping\n",
    "    mapping = { 2: 'F', 1 : 'M', '1': 'M'}\n",
    "    df['gender'] = df['gender'].map(mapping)\n",
    "    \n",
    "    \n",
    "    # sorting\n",
    "    df = df.sort_values(by=['year', 'gender', 'births','name'], ascending = [True, True, False, True] )\n",
    "\n",
    "    # drop unusable data\n",
    "    df= df.dropna()\n",
    "    df.drop(df.loc[df['name'] == '_PRENOMS_RARES'].index, inplace=True)\n",
    "    df.drop(df.loc[df['name'].str.len() < 2].index, inplace=True)\n",
    "    df.drop(df.loc[df['year'] == 'XXXX'].index, inplace=True)\n",
    "    \n",
    "    \n",
    "    \n",
    "    #df = df.drop(df[df['births'].str.contains('nom', na=False)].index)\n",
    "    df = df.reset_index()\n",
    "    df = df.drop(['index'], axis=1)\n",
    "    \n",
    "    #maj problem\n",
    "    df['name'] = df[\"name\"].str.title()\n",
    "\n",
    "    return df\n"
   ]
  },
  {
   "cell_type": "markdown",
   "metadata": {},
   "source": [
    "## 3. Taux de change\n",
    "\n",
    "On va s'intéresser au dataset des cours des devises de la Banque de France :  http://webstat.banque-france.fr/fr/browseBox.do?node=5385566\n",
    "\n",
    "Les données sont dans le fichier \"Webstat_Export.csv\".\n",
    "\n",
    "L'idée est de charger les données, de les nettoyer et de pouvoir accéder aux cours de certaines devises à partir de leur code ISO3. On retiendra uniquement les colonnes se terminant effectivement par un code ISO3 entre parenthèses. Par ex., \"Dollar des Etats-Unis (USD)\".\n",
    "\n",
    "Implémenter une fonction `df_taux_change()` qui produit un DataFrame avec les taux de change par date pour une liste de codes ISO3 de devises passée en argument. L'index du DataFrame doit correspondre aux dates (voir la fonction `pd.to_datetime()` avec le format`\"%d/%m/%Y\"`) et doit être trié par ordre croissant. Les colonnes du DataFrame doivent correspondre aux devises sélectionnées."
   ]
  },
  {
   "cell_type": "code",
   "execution_count": 577,
   "metadata": {},
   "outputs": [],
   "source": [
    "def df_taux_change(devises):\n",
    "    \n",
    "    # load data\n",
    "    path = '/Users/scotto/Documents/TélécomParis/KitBigData/Kit-Big-Data/session3/Webstat_Export.csv'\n",
    "    df = pd.read_csv(path, sep=';')\n",
    "    \n",
    "    # select only ISO column names\n",
    "    iso = [re.search(r'\\([A-Z]{3}\\)', word) for word in df.columns]\n",
    "    for i in range(len(iso)):\n",
    "        if iso[i]!= None:\n",
    "            iso[i] = iso[i].group(0).replace('(','').replace(')','')\n",
    "    iso[0] = 'date'            \n",
    "    df.columns=iso\n",
    "\n",
    "    # set date column as index\n",
    "    \n",
    "    df.drop(index=[0,1,2,3,4], axis=0, inplace=True) #supprime les lignes sans dates\n",
    "    df['date'] = pd.to_datetime(df['date'])\n",
    "    df.set_index('date', inplace=True)\n",
    "    \n",
    "    # return only required columns\n",
    "    df = df[devises]\n",
    "    \n",
    "    # format df to contain float\n",
    "    df = df.apply(lambda x: x.str.replace(',','.'))\n",
    "    df = df.apply(lambda x: x.replace('-',np.NaN) )\n",
    "    df=df.astype('float')\n",
    "    \n",
    "    # remove null values\n",
    "    df.dropna(inplace=True)\n",
    "    \n",
    "    # sort datetime\n",
    "    df.sort_index(inplace=True)\n",
    "    \n",
    "    return df"
   ]
  },
  {
   "cell_type": "code",
   "execution_count": null,
   "metadata": {},
   "outputs": [],
   "source": []
  },
  {
   "cell_type": "code",
   "execution_count": null,
   "metadata": {},
   "outputs": [],
   "source": []
  },
  {
   "cell_type": "code",
   "execution_count": null,
   "metadata": {},
   "outputs": [],
   "source": []
  },
  {
   "cell_type": "markdown",
   "metadata": {},
   "source": [
    "### Tests"
   ]
  },
  {
   "cell_type": "code",
   "execution_count": 578,
   "metadata": {},
   "outputs": [],
   "source": [
    "import unittest\n",
    "\n",
    "class Session3Tests(unittest.TestCase):\n",
    "    def test_df_names_us(self):\n",
    "        df = df_names_us()\n",
    "        # colonnes\n",
    "        self.assertEqual(list(df.columns), [\"year\", \"name\", \"gender\", \"births\"])\n",
    "        # lignes\n",
    "        self.assertEqual(len(df), 2052781)\n",
    "        # index\n",
    "        self.assertTrue(isinstance(df.index, pd.core.indexes.range.RangeIndex))\n",
    "        # test NaN\n",
    "        self.assertTrue(df.loc[df.isnull().any(axis=1)].empty)\n",
    "        \n",
    "    def test_df_names_fr(self):\n",
    "        df = df_names_fr()\n",
    "        # colonnes\n",
    "        self.assertEqual(list(df.columns), [\"year\", \"name\", \"gender\", \"births\"])\n",
    "        # lignes\n",
    "        self.assertEqual(len(df), 648330)\n",
    "        # index\n",
    "        self.assertTrue(isinstance(df.index, pd.RangeIndex))\n",
    "        # test names\n",
    "        self.assertTrue(df.loc[df.name.str.contains(r\"^[A-Z]+$\")].empty)\n",
    "        self.assertTrue(df.loc[df.name.str.contains(r\"-[a-z]+$\")].empty)\n",
    "        # test gender\n",
    "        self.assertEqual(len(df), len(df.loc[df.gender==\"F\"]) + len(df.loc[df.gender=='M']))\n",
    "        # test NaN\n",
    "        self.assertTrue(df.loc[df.isnull().any(axis=1)].empty)\n",
    "\n",
    "    def test_df_taux_change(self):\n",
    "        df = df_taux_change([\"CHF\", \"GBP\", \"USD\"])\n",
    "        # colonnes\n",
    "        self.assertEqual(list(df.columns), [\"CHF\", \"GBP\", \"USD\"])\n",
    "        # index\n",
    "        self.assertTrue(isinstance(df.index, pd.DatetimeIndex))\n",
    "        # index trié\n",
    "        self.assertEqual(list(df.index.argsort()), list(range(len(df))))\n",
    "        # types taux\n",
    "        self.assertTrue((df.dtypes == float).all())\n",
    "        # test NaN\n",
    "        self.assertTrue(df.loc[df.isnull().any(axis=1)].empty)"
   ]
  },
  {
   "cell_type": "code",
   "execution_count": 579,
   "metadata": {},
   "outputs": [],
   "source": [
    "# run tests\n",
    "def run_tests():\n",
    "    test_suite = unittest.makeSuite(Session3Tests)\n",
    "    runner = unittest.TextTestRunner(verbosity=2)\n",
    "    runner.run(test_suite)"
   ]
  },
  {
   "cell_type": "code",
   "execution_count": 581,
   "metadata": {},
   "outputs": [
    {
     "name": "stderr",
     "output_type": "stream",
     "text": [
      "test_df_names_fr (__main__.Session3Tests) ... /var/folders/2t/_v7vz8g96_16z98yf83c6xfm0000gn/T/ipykernel_9192/2568837283.py:16: DtypeWarning: Columns (0,3) have mixed types.Specify dtype option on import or set low_memory=False.\n",
      "  df = df_names_fr()\n",
      "ok\n",
      "test_df_names_us (__main__.Session3Tests) ... ok\n",
      "test_df_taux_change (__main__.Session3Tests) ... ok\n",
      "\n",
      "----------------------------------------------------------------------\n",
      "Ran 3 tests in 16.303s\n",
      "\n",
      "OK\n"
     ]
    }
   ],
   "source": [
    "# run tests\n",
    "run_tests()"
   ]
  },
  {
   "cell_type": "code",
   "execution_count": null,
   "metadata": {},
   "outputs": [],
   "source": []
  },
  {
   "cell_type": "code",
   "execution_count": null,
   "metadata": {},
   "outputs": [],
   "source": []
  }
 ],
 "metadata": {
  "kernelspec": {
   "display_name": "Python 3 (ipykernel)",
   "language": "python",
   "name": "python3"
  },
  "language_info": {
   "codemirror_mode": {
    "name": "ipython",
    "version": 3
   },
   "file_extension": ".py",
   "mimetype": "text/x-python",
   "name": "python",
   "nbconvert_exporter": "python",
   "pygments_lexer": "ipython3",
   "version": "3.9.7"
  }
 },
 "nbformat": 4,
 "nbformat_minor": 4
}
